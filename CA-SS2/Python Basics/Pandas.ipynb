{
 "cells": [
  {
   "cell_type": "markdown",
   "metadata": {},
   "source": [
    "# Pandas"
   ]
  },
  {
   "cell_type": "markdown",
   "metadata": {},
   "source": [
    "* As stated by Pandas site: \n",
    "    \n",
    "    ***Pandas is a fast, powerful, flexible and easy to use open source data analysis and manipulation tool, built on top of the Python programming language.***\n",
    "\n",
    "* Pandas provide an easy interface and set of functions to manipulate 1-D data, called series and 2-Dimensional data called Dataframe.\n",
    "* It is possible to play with index to represent multi-Dimension data as well."
   ]
  },
  {
   "cell_type": "code",
   "execution_count": 1,
   "metadata": {},
   "outputs": [],
   "source": [
    "separator = \"\\n###############\\n\""
   ]
  },
  {
   "cell_type": "code",
   "execution_count": 2,
   "metadata": {},
   "outputs": [],
   "source": [
    "# importing Pandas\n",
    "import pandas as pd"
   ]
  },
  {
   "cell_type": "markdown",
   "metadata": {},
   "source": [
    "* Pandas provide 2 powerful Data structures:\n",
    "    1. Series - Equivalent to a list\n",
    "    2. Dataframe - Equivalent to a Table\n",
    "\n",
    "* You can think of Pandas dataframe as a grouping of Pandas Series, where each column represents a series."
   ]
  },
  {
   "cell_type": "markdown",
   "metadata": {},
   "source": [
    "## Pandas Series"
   ]
  },
  {
   "cell_type": "code",
   "execution_count": 5,
   "metadata": {},
   "outputs": [
    {
     "data": {
      "text/plain": [
       "0    1\n",
       "1    2\n",
       "2    3\n",
       "3    4\n",
       "4    5\n",
       "dtype: int64"
      ]
     },
     "execution_count": 5,
     "metadata": {},
     "output_type": "execute_result"
    }
   ],
   "source": [
    "pds = pd.Series([1,2,3,4,5])\n",
    "pds\n",
    "\n",
    "# * Here [1,2,3,4,5] represents the actual data.\n",
    "# * [0 - 4] represents the index or row number. As like other python\n",
    "#   data structures, you can use this index to access a particular row.\n",
    "# * dtype is data type. For this case it is integer of 64 bits."
   ]
  },
  {
   "cell_type": "code",
   "execution_count": 6,
   "metadata": {},
   "outputs": [
    {
     "data": {
      "text/plain": [
       "0    1\n",
       "1    2\n",
       "2    3\n",
       "3    4\n",
       "4    5\n",
       "5    a\n",
       "dtype: object"
      ]
     },
     "execution_count": 6,
     "metadata": {},
     "output_type": "execute_result"
    }
   ],
   "source": [
    "pds = pd.Series([1,2,3,4,5, 'a'])\n",
    "pds"
   ]
  },
  {
   "cell_type": "markdown",
   "metadata": {},
   "source": [
    "#### Creating a Series"
   ]
  },
  {
   "cell_type": "code",
   "execution_count": 19,
   "metadata": {},
   "outputs": [
    {
     "name": "stdout",
     "output_type": "stream",
     "text": [
      "0    5\n",
      "dtype: int64\n",
      "\n",
      "###############\n",
      "\n",
      "0    5\n",
      "1    5\n",
      "2    5\n",
      "3    5\n",
      "4    5\n",
      "dtype: int64\n",
      "0    5\n",
      "1    2\n",
      "2    4\n",
      "3    3\n",
      "4    1\n",
      "dtype: int64\n"
     ]
    }
   ],
   "source": [
    "# From a scalar value\n",
    "print(pd.Series(5))\n",
    "print(separator)\n",
    "print(pd.Series(5, index = range(5)))\n",
    "\n",
    "# below is not possible\n",
    "# print(pd.Series([5], index = range(5)))"
   ]
  },
  {
   "cell_type": "code",
   "execution_count": 21,
   "metadata": {},
   "outputs": [
    {
     "name": "stdout",
     "output_type": "stream",
     "text": [
      "0     3\n",
      "1     6\n",
      "2     9\n",
      "3    12\n",
      "dtype: int64\n",
      "11    3.0\n",
      "12    4.0\n",
      "13    5.0\n",
      "14    6.0\n",
      "15    7.0\n",
      "dtype: float64\n"
     ]
    }
   ],
   "source": [
    "# Creating a series from an iterator\n",
    "print(pd.Series(range(3, 15, 3)))\n",
    "\n",
    "print(pd.Series(tuple(map(float, range(3, 8))), index = range(11,16)))"
   ]
  },
  {
   "cell_type": "code",
   "execution_count": 87,
   "metadata": {},
   "outputs": [
    {
     "name": "stdout",
     "output_type": "stream",
     "text": [
      "West Bengal      Kolkata\n",
      "Delhi              Delhi\n",
      "Maharashtra       Mumbai\n",
      "Karnataka      Bangalore\n",
      "dtype: object\n",
      "\n",
      "###############\n",
      "\n",
      "0    NaN\n",
      "1    NaN\n",
      "2    NaN\n",
      "3    NaN\n",
      "dtype: object\n",
      "\n",
      "###############\n",
      "\n",
      "West Bengal      Kolkata\n",
      "Delhi              Delhi\n",
      "Maharashtra       Mumbai\n",
      "Karnataka      Bangalore\n",
      "ABC                  NaN\n",
      "dtype: object\n",
      "\n",
      "###############\n",
      "\n",
      "ABC                  NaN\n",
      "Delhi              Delhi\n",
      "Karnataka      Bangalore\n",
      "Maharashtra       Mumbai\n",
      "West Bengal      Kolkata\n",
      "dtype: object\n"
     ]
    }
   ],
   "source": [
    "# Creating a series from a dictionay\n",
    "state_capital = {'West Bengal': 'Kolkata', 'Delhi': 'Delhi', 'Maharashtra': 'Mumbai', 'Karnataka': 'Bangalore'}\n",
    "print(pd.Series(state_capital))\n",
    "\n",
    "## Try these\n",
    "print(separator)\n",
    "print(pd.Series(state_capital, index=range(4)))\n",
    "print(separator)\n",
    "\n",
    "\n",
    "print(pd.Series(state_capital, index = list(state_capital.keys()) + ['ABC']))\n",
    "print(separator)\n",
    "print(pd.Series(state_capital, index = sorted(list(state_capital.keys()) + ['ABC'])))"
   ]
  },
  {
   "cell_type": "markdown",
   "metadata": {},
   "source": [
    "#### It is possible to assign:\n",
    "    1. a specific name to Series\n",
    "    2. a speicific datatype - any numpy datatype is valid\n",
    "    3. custom index."
   ]
  },
  {
   "cell_type": "code",
   "execution_count": 70,
   "metadata": {},
   "outputs": [
    {
     "data": {
      "text/plain": [
       "A    1.0\n",
       "B    2.0\n",
       "C    3.0\n",
       "D    4.0\n",
       "E    5.0\n",
       "Name: list_data, dtype: float64"
      ]
     },
     "execution_count": 70,
     "metadata": {},
     "output_type": "execute_result"
    }
   ],
   "source": [
    "pds2 = pd.Series([1,2,3,4,5], name='list_data', index=list('ABCDE'), dtype='f8')\n",
    "pds2"
   ]
  },
  {
   "cell_type": "markdown",
   "metadata": {},
   "source": [
    "#### Accessing individual elements to the pandas Series."
   ]
  },
  {
   "cell_type": "code",
   "execution_count": 37,
   "metadata": {},
   "outputs": [
    {
     "name": "stdout",
     "output_type": "stream",
     "text": [
      "A    1.0\n",
      "B    2.0\n",
      "C    3.0\n",
      "D    4.0\n",
      "E    5.0\n",
      "Name: list_data, dtype: float64\n",
      "0    1\n",
      "1    2\n",
      "2    3\n",
      "3    4\n",
      "4    5\n",
      "5    a\n",
      "dtype: object\n",
      "\n",
      "###############\n",
      "\n",
      "\n",
      "###############\n",
      "\n",
      "# . using get function of the Series:\n",
      "pds2  :  2.0\n",
      "pds  :  2\n",
      "get F:  None\n"
     ]
    }
   ],
   "source": [
    "# You can do it in multiple ways\n",
    "print(pds2)\n",
    "print(pds)\n",
    "\n",
    "\n",
    "# print(\"1. using index value directly:\")\n",
    "# print(\"pds2  : \", pds2['B'])\n",
    "# print(\"pds  : \", pds[1])\n",
    "\n",
    "print(separator)\n",
    "# print(\"2. using loc (location) function of the series:\")\n",
    "# print(\"pds2  : \", pds2.loc['B'])\n",
    "# print(\"pds : \", pds.loc[1])\n",
    "\n",
    "# Errorneous indexing\n",
    "# print(\"pds2  : \", pds2.loc[1])  # Datatype of index doesn't match\n",
    "# print(\"pds : \", pds.loc['B'])   # Key error, index 'B' is not available.\n",
    "\n",
    "# print(separator)\n",
    "# print(\"# 3. using iloc (integer or index location) function of the Series:\")\n",
    "# pds2.iloc[1]\n",
    "# print(\"pds2  : \", pds2.iloc[1])\n",
    "# print(\"pds  : \", pds.iloc[1])\n",
    "\n",
    "# print(separator)\n",
    "# Behavior of loc and iloc in suffled indexing.\n",
    "# df = pd.Series([0,2,1,3,4])\n",
    "# df.sort_values(inplace=True)\n",
    "# print(df)\n",
    "# print(df.loc[2], df.iloc[2])\n",
    "\n",
    "\n",
    "print(separator)\n",
    "print(\"# . using get function of the Series:\")\n",
    "pds2.iloc[1]\n",
    "print(\"pds2  : \", pds2.get(1)) # or 'B'\n",
    "print(\"pds  : \", pds.get(1))\n",
    "\n",
    "### Get doesn't return any error, if key is not present in Series. it returns the default value\n",
    "print(\"get F: \", pds2.get('F'))\n"
   ]
  },
  {
   "cell_type": "code",
   "execution_count": 44,
   "metadata": {},
   "outputs": [],
   "source": [
    "import numpy as np"
   ]
  },
  {
   "cell_type": "markdown",
   "metadata": {},
   "source": [
    "#### Appending more data to series\n",
    "\n",
    "* You can only append a Series or DataFrame object."
   ]
  },
  {
   "cell_type": "code",
   "execution_count": 49,
   "metadata": {},
   "outputs": [
    {
     "name": "stdout",
     "output_type": "stream",
     "text": [
      "A    1.0\n",
      "B    2.0\n",
      "C    3.0\n",
      "D    4.0\n",
      "E    5.0\n",
      "Name: list_data, dtype: float64\n"
     ]
    }
   ],
   "source": [
    "print(pds2)\n",
    "pds2.append(pd.Series(6))#, index=['F']))\n",
    "pds2 = pds2.append(pd.Series([6], index=['F']))"
   ]
  },
  {
   "cell_type": "code",
   "execution_count": 54,
   "metadata": {},
   "outputs": [
    {
     "data": {
      "text/plain": [
       "A    1.0\n",
       "B    2.0\n",
       "C    3.0\n",
       "D    4.0\n",
       "E    5.0\n",
       "F    6.0\n",
       "G    7.0\n",
       "dtype: float64"
      ]
     },
     "execution_count": 54,
     "metadata": {},
     "output_type": "execute_result"
    }
   ],
   "source": [
    "pds2.append(pd.Series([7], ['G']))"
   ]
  },
  {
   "cell_type": "code",
   "execution_count": 55,
   "metadata": {},
   "outputs": [
    {
     "data": {
      "text/plain": [
       "A    1.0\n",
       "B    2.0\n",
       "C    3.0\n",
       "D    4.0\n",
       "E    5.0\n",
       "F    6.0\n",
       "dtype: float64"
      ]
     },
     "execution_count": 55,
     "metadata": {},
     "output_type": "execute_result"
    }
   ],
   "source": [
    "pds2"
   ]
  },
  {
   "cell_type": "code",
   "execution_count": 63,
   "metadata": {},
   "outputs": [
    {
     "data": {
      "text/plain": [
       "0    1\n",
       "1    2\n",
       "2    3\n",
       "3    4\n",
       "4    5\n",
       "5    a\n",
       "0    6\n",
       "1    7\n",
       "2    8\n",
       "dtype: object"
      ]
     },
     "execution_count": 63,
     "metadata": {},
     "output_type": "execute_result"
    }
   ],
   "source": [
    "ps = pds.append(pd.Series([6,7,8]))#, ignore_index=True)\n",
    "ps"
   ]
  },
  {
   "cell_type": "code",
   "execution_count": 64,
   "metadata": {},
   "outputs": [
    {
     "name": "stdout",
     "output_type": "stream",
     "text": [
      "1    2\n",
      "1    7\n",
      "dtype: object\n",
      "2\n"
     ]
    }
   ],
   "source": [
    "print(ps.loc[1])\n",
    "print(ps.iloc[1])"
   ]
  },
  {
   "cell_type": "markdown",
   "metadata": {},
   "source": [
    "#### Converting Series to other formats."
   ]
  },
  {
   "cell_type": "code",
   "execution_count": 65,
   "metadata": {},
   "outputs": [
    {
     "name": "stdout",
     "output_type": "stream",
     "text": [
      "[1, 2, 3, 4, 5, 'a']\n",
      "[1.0, 2.0, 3.0, 4.0, 5.0, 6.0]\n"
     ]
    }
   ],
   "source": [
    "print(pds.to_list())\n",
    "print(pds2.to_list())"
   ]
  },
  {
   "cell_type": "code",
   "execution_count": 66,
   "metadata": {},
   "outputs": [
    {
     "name": "stdout",
     "output_type": "stream",
     "text": [
      "{0: 1, 1: 2, 2: 3, 3: 4, 4: 5, 5: 'a'}\n",
      "{'A': 1.0, 'B': 2.0, 'C': 3.0, 'D': 4.0, 'E': 5.0, 'F': 6.0}\n"
     ]
    }
   ],
   "source": [
    "print(pds.to_dict())\n",
    "print(pds2.to_dict())"
   ]
  },
  {
   "cell_type": "code",
   "execution_count": 67,
   "metadata": {},
   "outputs": [
    {
     "data": {
      "text/html": [
       "<div>\n",
       "<style scoped>\n",
       "    .dataframe tbody tr th:only-of-type {\n",
       "        vertical-align: middle;\n",
       "    }\n",
       "\n",
       "    .dataframe tbody tr th {\n",
       "        vertical-align: top;\n",
       "    }\n",
       "\n",
       "    .dataframe thead th {\n",
       "        text-align: right;\n",
       "    }\n",
       "</style>\n",
       "<table border=\"1\" class=\"dataframe\">\n",
       "  <thead>\n",
       "    <tr style=\"text-align: right;\">\n",
       "      <th></th>\n",
       "      <th>0</th>\n",
       "    </tr>\n",
       "  </thead>\n",
       "  <tbody>\n",
       "    <tr>\n",
       "      <th>0</th>\n",
       "      <td>1</td>\n",
       "    </tr>\n",
       "    <tr>\n",
       "      <th>1</th>\n",
       "      <td>2</td>\n",
       "    </tr>\n",
       "    <tr>\n",
       "      <th>2</th>\n",
       "      <td>3</td>\n",
       "    </tr>\n",
       "    <tr>\n",
       "      <th>3</th>\n",
       "      <td>4</td>\n",
       "    </tr>\n",
       "    <tr>\n",
       "      <th>4</th>\n",
       "      <td>5</td>\n",
       "    </tr>\n",
       "    <tr>\n",
       "      <th>5</th>\n",
       "      <td>a</td>\n",
       "    </tr>\n",
       "  </tbody>\n",
       "</table>\n",
       "</div>"
      ],
      "text/plain": [
       "   0\n",
       "0  1\n",
       "1  2\n",
       "2  3\n",
       "3  4\n",
       "4  5\n",
       "5  a"
      ]
     },
     "execution_count": 67,
     "metadata": {},
     "output_type": "execute_result"
    }
   ],
   "source": [
    "pds.to_frame()"
   ]
  },
  {
   "cell_type": "code",
   "execution_count": 68,
   "metadata": {},
   "outputs": [
    {
     "data": {
      "text/html": [
       "<div>\n",
       "<style scoped>\n",
       "    .dataframe tbody tr th:only-of-type {\n",
       "        vertical-align: middle;\n",
       "    }\n",
       "\n",
       "    .dataframe tbody tr th {\n",
       "        vertical-align: top;\n",
       "    }\n",
       "\n",
       "    .dataframe thead th {\n",
       "        text-align: right;\n",
       "    }\n",
       "</style>\n",
       "<table border=\"1\" class=\"dataframe\">\n",
       "  <thead>\n",
       "    <tr style=\"text-align: right;\">\n",
       "      <th></th>\n",
       "      <th>values</th>\n",
       "    </tr>\n",
       "  </thead>\n",
       "  <tbody>\n",
       "    <tr>\n",
       "      <th>0</th>\n",
       "      <td>1</td>\n",
       "    </tr>\n",
       "    <tr>\n",
       "      <th>1</th>\n",
       "      <td>2</td>\n",
       "    </tr>\n",
       "    <tr>\n",
       "      <th>2</th>\n",
       "      <td>3</td>\n",
       "    </tr>\n",
       "    <tr>\n",
       "      <th>3</th>\n",
       "      <td>4</td>\n",
       "    </tr>\n",
       "    <tr>\n",
       "      <th>4</th>\n",
       "      <td>5</td>\n",
       "    </tr>\n",
       "    <tr>\n",
       "      <th>5</th>\n",
       "      <td>a</td>\n",
       "    </tr>\n",
       "  </tbody>\n",
       "</table>\n",
       "</div>"
      ],
      "text/plain": [
       "  values\n",
       "0      1\n",
       "1      2\n",
       "2      3\n",
       "3      4\n",
       "4      5\n",
       "5      a"
      ]
     },
     "execution_count": 68,
     "metadata": {},
     "output_type": "execute_result"
    }
   ],
   "source": [
    "pds.to_frame(name='values')"
   ]
  },
  {
   "cell_type": "code",
   "execution_count": 71,
   "metadata": {},
   "outputs": [
    {
     "data": {
      "text/plain": [
       "A    1.0\n",
       "B    2.0\n",
       "C    3.0\n",
       "D    4.0\n",
       "E    5.0\n",
       "Name: list_data, dtype: float64"
      ]
     },
     "execution_count": 71,
     "metadata": {},
     "output_type": "execute_result"
    }
   ],
   "source": [
    "pds2"
   ]
  },
  {
   "cell_type": "code",
   "execution_count": 72,
   "metadata": {},
   "outputs": [
    {
     "data": {
      "text/html": [
       "<div>\n",
       "<style scoped>\n",
       "    .dataframe tbody tr th:only-of-type {\n",
       "        vertical-align: middle;\n",
       "    }\n",
       "\n",
       "    .dataframe tbody tr th {\n",
       "        vertical-align: top;\n",
       "    }\n",
       "\n",
       "    .dataframe thead th {\n",
       "        text-align: right;\n",
       "    }\n",
       "</style>\n",
       "<table border=\"1\" class=\"dataframe\">\n",
       "  <thead>\n",
       "    <tr style=\"text-align: right;\">\n",
       "      <th></th>\n",
       "      <th>list_data</th>\n",
       "    </tr>\n",
       "  </thead>\n",
       "  <tbody>\n",
       "    <tr>\n",
       "      <th>A</th>\n",
       "      <td>1.0</td>\n",
       "    </tr>\n",
       "    <tr>\n",
       "      <th>B</th>\n",
       "      <td>2.0</td>\n",
       "    </tr>\n",
       "    <tr>\n",
       "      <th>C</th>\n",
       "      <td>3.0</td>\n",
       "    </tr>\n",
       "    <tr>\n",
       "      <th>D</th>\n",
       "      <td>4.0</td>\n",
       "    </tr>\n",
       "    <tr>\n",
       "      <th>E</th>\n",
       "      <td>5.0</td>\n",
       "    </tr>\n",
       "  </tbody>\n",
       "</table>\n",
       "</div>"
      ],
      "text/plain": [
       "   list_data\n",
       "A        1.0\n",
       "B        2.0\n",
       "C        3.0\n",
       "D        4.0\n",
       "E        5.0"
      ]
     },
     "execution_count": 72,
     "metadata": {},
     "output_type": "execute_result"
    }
   ],
   "source": [
    "pds2.to_frame()"
   ]
  },
  {
   "cell_type": "code",
   "execution_count": 78,
   "metadata": {},
   "outputs": [
    {
     "data": {
      "text/plain": [
       "'[1.0,2.0,3.0,4.0,5.0]'"
      ]
     },
     "execution_count": 78,
     "metadata": {},
     "output_type": "execute_result"
    }
   ],
   "source": [
    "pds2.to_json(orient='values') # index (default), records, 'table', 'values'"
   ]
  },
  {
   "cell_type": "code",
   "execution_count": 80,
   "metadata": {},
   "outputs": [
    {
     "data": {
      "text/plain": [
       "array([1., 2., 3., 4., 5.])"
      ]
     },
     "execution_count": 80,
     "metadata": {},
     "output_type": "execute_result"
    }
   ],
   "source": [
    "pds2.to_numpy()"
   ]
  },
  {
   "cell_type": "markdown",
   "metadata": {},
   "source": [
    "#### Other useful functions"
   ]
  },
  {
   "cell_type": "code",
   "execution_count": null,
   "metadata": {},
   "outputs": [],
   "source": [
    "# sc = pd.Series(state_capital, index = list(state_capital.keys()) + ['ABC', 'DEF'])"
   ]
  },
  {
   "cell_type": "code",
   "execution_count": 81,
   "metadata": {},
   "outputs": [
    {
     "data": {
      "text/plain": [
       "1"
      ]
     },
     "execution_count": 81,
     "metadata": {},
     "output_type": "execute_result"
    }
   ],
   "source": [
    "pds2.ndim   # retrns number of dimensions, by default 1"
   ]
  },
  {
   "cell_type": "code",
   "execution_count": 82,
   "metadata": {},
   "outputs": [
    {
     "data": {
      "text/plain": [
       "(5,)"
      ]
     },
     "execution_count": 82,
     "metadata": {},
     "output_type": "execute_result"
    }
   ],
   "source": [
    "pds2.shape # shape of the Series"
   ]
  },
  {
   "cell_type": "code",
   "execution_count": null,
   "metadata": {},
   "outputs": [],
   "source": [
    "pds2.size # number of elements in the Series"
   ]
  },
  {
   "cell_type": "code",
   "execution_count": 84,
   "metadata": {},
   "outputs": [
    {
     "data": {
      "text/plain": [
       "A    1.0\n",
       "B    2.0\n",
       "C    3.0\n",
       "D    4.0\n",
       "E    5.0\n",
       "Name: list_data, dtype: float64"
      ]
     },
     "execution_count": 84,
     "metadata": {},
     "output_type": "execute_result"
    }
   ],
   "source": [
    "pds2"
   ]
  },
  {
   "cell_type": "code",
   "execution_count": 85,
   "metadata": {},
   "outputs": [
    {
     "name": "stdout",
     "output_type": "stream",
     "text": [
      "False\n",
      "West Bengal      Kolkata\n",
      "Delhi              Delhi\n",
      "Maharashtra       Mumbai\n",
      "Karnataka      Bangalore\n",
      "0                unknown\n",
      "ABC                  NaN\n",
      "DEF                  NaN\n",
      "dtype: object\n"
     ]
    },
    {
     "data": {
      "text/plain": [
       "True"
      ]
     },
     "execution_count": 85,
     "metadata": {},
     "output_type": "execute_result"
    }
   ],
   "source": [
    "print(pds2.hasnans) # if series contains any NaN (not a number) value\n",
    "\n",
    "print(pd.Series(state_capital, index = list(state_capital.keys()) + ['ABC', 'DEF']))\n",
    "pd.Series(state_capital, index = list(state_capital.keys()) + ['ABC', 'DEF']).hasnans"
   ]
  },
  {
   "cell_type": "code",
   "execution_count": 89,
   "metadata": {},
   "outputs": [
    {
     "name": "stdout",
     "output_type": "stream",
     "text": [
      "False\n",
      "0    NaN\n",
      "1    NaN\n",
      "2    NaN\n",
      "3    NaN\n",
      "dtype: object\n",
      "False\n",
      "Series([], dtype: float64)\n",
      "True\n"
     ]
    },
    {
     "name": "stderr",
     "output_type": "stream",
     "text": [
      "C:\\Users\\ikhurana\\Anaconda3\\lib\\site-packages\\ipykernel_launcher.py:6: DeprecationWarning: The default dtype for empty Series will be 'object' instead of 'float64' in a future version. Specify a dtype explicitly to silence this warning.\n",
      "  \n",
      "C:\\Users\\ikhurana\\Anaconda3\\lib\\site-packages\\ipykernel_launcher.py:7: DeprecationWarning: The default dtype for empty Series will be 'object' instead of 'float64' in a future version. Specify a dtype explicitly to silence this warning.\n",
      "  import sys\n"
     ]
    }
   ],
   "source": [
    "print(pds2.empty)  # if series is empty\n",
    "\n",
    "print(pd.Series(state_capital, index=range(4)))\n",
    "print(pd.Series(state_capital, index=range(4)).empty) # NaNs are not equivalent to empty\n",
    "\n",
    "print(pd.Series())\n",
    "print(pd.Series().empty)"
   ]
  },
  {
   "cell_type": "code",
   "execution_count": 90,
   "metadata": {},
   "outputs": [
    {
     "name": "stdout",
     "output_type": "stream",
     "text": [
      "Index(['A', 'B', 'C', 'D', 'E'], dtype='object')\n",
      "RangeIndex(start=0, stop=6, step=1)\n"
     ]
    }
   ],
   "source": [
    "print(pds2.keys()) # retutns all index keys or related function\n",
    "print(pds.keys())"
   ]
  },
  {
   "cell_type": "code",
   "execution_count": 91,
   "metadata": {},
   "outputs": [
    {
     "name": "stdout",
     "output_type": "stream",
     "text": [
      "A    1.0\n",
      "B    2.0\n",
      "C    3.0\n",
      "D    4.0\n",
      "E    5.0\n",
      "Name: list_data, dtype: float64\n",
      "5.0\n",
      "A    1.0\n",
      "B    2.0\n",
      "C    3.0\n",
      "D    4.0\n",
      "Name: list_data, dtype: float64\n"
     ]
    }
   ],
   "source": [
    "print(pds2)\n",
    "print(pds2.pop('E')) # removes given item (based on index) from series\n",
    "print(pds2)"
   ]
  },
  {
   "cell_type": "code",
   "execution_count": 93,
   "metadata": {},
   "outputs": [
    {
     "name": "stdout",
     "output_type": "stream",
     "text": [
      "a    2.0\n",
      "b    3.0\n",
      "c    NaN\n",
      "d    4.0\n",
      "e    NaN\n",
      "dtype: float64\n",
      "a    2.0\n",
      "b    3.0\n",
      "c    NaN\n",
      "d    4.0\n",
      "e    NaN\n",
      "dtype: float64\n"
     ]
    },
    {
     "data": {
      "text/plain": [
       "a    2.0\n",
       "b    3.0\n",
       "c    1.0\n",
       "d    4.0\n",
       "e    4.0\n",
       "dtype: float64"
      ]
     },
     "execution_count": 93,
     "metadata": {},
     "output_type": "execute_result"
    }
   ],
   "source": [
    "a = pd.Series([1, 1, 1, 1], index=['a', 'b', 'c', 'd'])\n",
    "b = pd.Series([1, 2, 3, 4], index=['a', 'b', 'd', 'e'])\n",
    "print(a + b)\n",
    "print(a.add(b))\n",
    "\n",
    "## Beware: add function converts values to NaN if indexes don't match. To correct this behavior always use fill_value attribute\n",
    "a.add(b, fill_value=0)"
   ]
  },
  {
   "cell_type": "code",
   "execution_count": null,
   "metadata": {},
   "outputs": [],
   "source": [
    "## Apply function: Apply the given function on all values of the the Series\n",
    "# and returns a new series\n",
    "print(pds.apply(lambda x: x+10))\n",
    "\n",
    "print(separator)\n",
    "# You can define your own custom functions with arguments as well.\n",
    "# 1st attribute is always the Series's value\n",
    "def custom_function(x, y, z):\n",
    "    return x + y + z\n",
    "\n",
    "print(pds.apply(custom_function, args=(10,20,)))\n",
    "print(pds.apply(custom_function, y= 10, z=20))"
   ]
  },
  {
   "cell_type": "code",
   "execution_count": null,
   "metadata": {},
   "outputs": [],
   "source": [
    "# Agg or Aggregate: apply an aggregation function.\n",
    "print(pds2.aggregate('min'))\n",
    "print(pds2.agg(['min', 'max', 'sum']))\n",
    "\n",
    "      \n",
    "print(separator)\n",
    "# You can define your own custom aggregation functions as well\n",
    "# 1st arments is always series' value\n",
    "def squared_sum(x, y=1):\n",
    "    tot = 0\n",
    "    for i in x:\n",
    "        tot += i**2\n",
    "    return tot + y\n",
    "\n",
    "print(pds2.agg(squared_sum, y = 10))\n",
    "print(separator)\n",
    "print(pds2.agg(['min', 'max', 'sum', squared_sum]))\n"
   ]
  },
  {
   "cell_type": "markdown",
   "metadata": {},
   "source": [
    "### Plotting Data"
   ]
  },
  {
   "cell_type": "code",
   "execution_count": null,
   "metadata": {},
   "outputs": [],
   "source": [
    "pds2.plot(kind='line')\n",
    "\n",
    "# line, bar, barh, hist, box, kde, area, pie"
   ]
  },
  {
   "cell_type": "code",
   "execution_count": null,
   "metadata": {},
   "outputs": [],
   "source": [
    "pds2.plot.line() # you can put other kinds as well. eg: pds2.plot.bar()"
   ]
  },
  {
   "cell_type": "markdown",
   "metadata": {},
   "source": [
    "## Pandas DataFrame\n",
    "\n",
    "* It provides Tabular or Matrix Structure"
   ]
  },
  {
   "cell_type": "code",
   "execution_count": null,
   "metadata": {},
   "outputs": [],
   "source": [
    "name = ['Chintu', 'Mintu', 'Pinky', 'Minty', 'Golu', 'Molu']\n",
    "gender = ['M', 'M', 'F', 'F', 'M', 'M']\n",
    "age = [6, 5, 6, 5, 6, 5]\n",
    "marks = [80.0, 65.0, 90.0, 82.0, 75.0, 82.0]"
   ]
  },
  {
   "cell_type": "code",
   "execution_count": null,
   "metadata": {},
   "outputs": [],
   "source": [
    "pd.DataFrame([name, gender, age, marks])"
   ]
  },
  {
   "cell_type": "code",
   "execution_count": null,
   "metadata": {},
   "outputs": [],
   "source": [
    "pd.DataFrame(list(zip(name, gender, age, marks))) #, columns = ['name', 'gender', 'age', 'marks'])"
   ]
  },
  {
   "cell_type": "code",
   "execution_count": null,
   "metadata": {},
   "outputs": [],
   "source": [
    "d = {'name': name, 'gender': gender, 'age': age, 'marks': marks}\n",
    "d"
   ]
  },
  {
   "cell_type": "code",
   "execution_count": null,
   "metadata": {},
   "outputs": [],
   "source": [
    "pd.DataFrame(d)"
   ]
  },
  {
   "cell_type": "code",
   "execution_count": null,
   "metadata": {},
   "outputs": [],
   "source": [
    "d = [{'name': 'Chintu', 'gender': 'M', 'age': 6, 'marks': 80.0},\n",
    " {'name': 'Mintu', 'gender': 'M', 'age': 5, 'marks': 65.0},\n",
    " {'name': 'Pinky', 'gender': 'F', 'age': 6, 'marks': 90.0},\n",
    " {'name': 'Minty', 'gender': 'F', 'age': 5, 'marks': 82.0},\n",
    " {'name': 'Golu', 'gender': 'M', 'age': 6, 'marks': 75.0},\n",
    " {'name': 'Molu', 'gender': 'M', 'age': 5, 'marks': 82.0}]\n",
    "\n",
    "students_df = pd.DataFrame(d)\n",
    "students_df"
   ]
  },
  {
   "cell_type": "code",
   "execution_count": null,
   "metadata": {},
   "outputs": [],
   "source": [
    "pima_df = pd.read_csv('pima_indian_diabetes.csv')\n",
    "pima_df"
   ]
  },
  {
   "cell_type": "code",
   "execution_count": null,
   "metadata": {},
   "outputs": [],
   "source": [
    "url = \"https://raw.githubusercontent.com/ikhurana/code-asylums/master/CA-SS1/Decision%20Tree%20and%20Random%20Forest/pima_indian_diabetes.csv\"\n",
    "pd.read_csv(url)"
   ]
  },
  {
   "cell_type": "code",
   "execution_count": null,
   "metadata": {},
   "outputs": [],
   "source": [
    "students_df.info()  # Gives a summary of the type of data in data frame."
   ]
  },
  {
   "cell_type": "code",
   "execution_count": null,
   "metadata": {},
   "outputs": [],
   "source": [
    "students_df.describe() # Gives the statstical summary of the dataframe"
   ]
  },
  {
   "cell_type": "code",
   "execution_count": null,
   "metadata": {},
   "outputs": [],
   "source": [
    "students_df.describe(include='all')"
   ]
  },
  {
   "cell_type": "code",
   "execution_count": null,
   "metadata": {},
   "outputs": [],
   "source": [
    "pima_df.describe() "
   ]
  },
  {
   "cell_type": "code",
   "execution_count": null,
   "metadata": {},
   "outputs": [],
   "source": [
    "pima_df.info() "
   ]
  },
  {
   "cell_type": "code",
   "execution_count": null,
   "metadata": {},
   "outputs": [],
   "source": [
    "pima_df.shape  # Returns the tuple of # of rows and columns in dataframe"
   ]
  },
  {
   "cell_type": "code",
   "execution_count": null,
   "metadata": {},
   "outputs": [],
   "source": [
    "pima_df.head() # list n columns from the top of the dataframe, default value is 5"
   ]
  },
  {
   "cell_type": "code",
   "execution_count": null,
   "metadata": {},
   "outputs": [],
   "source": [
    "pima_df.tail(5) # list n columns from the end/bottom of the dataframe, default value is 5"
   ]
  },
  {
   "cell_type": "code",
   "execution_count": null,
   "metadata": {},
   "outputs": [],
   "source": [
    "pima_df.columns # list all the columns of the Dataframe"
   ]
  },
  {
   "cell_type": "code",
   "execution_count": null,
   "metadata": {},
   "outputs": [],
   "source": [
    "pima_df.values  # returns all the values in np array format"
   ]
  },
  {
   "cell_type": "code",
   "execution_count": null,
   "metadata": {},
   "outputs": [],
   "source": [
    "type(pima_df['Pregnancies'])"
   ]
  },
  {
   "cell_type": "code",
   "execution_count": null,
   "metadata": {},
   "outputs": [],
   "source": []
  }
 ],
 "metadata": {
  "kernelspec": {
   "display_name": "Python 3",
   "language": "python",
   "name": "python3"
  },
  "language_info": {
   "codemirror_mode": {
    "name": "ipython",
    "version": 3
   },
   "file_extension": ".py",
   "mimetype": "text/x-python",
   "name": "python",
   "nbconvert_exporter": "python",
   "pygments_lexer": "ipython3",
   "version": "3.7.7"
  }
 },
 "nbformat": 4,
 "nbformat_minor": 4
}
