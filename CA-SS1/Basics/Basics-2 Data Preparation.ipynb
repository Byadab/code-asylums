{
 "cells": [
  {
   "cell_type": "markdown",
   "metadata": {},
   "source": [
    "# Data Preparation"
   ]
  },
  {
   "cell_type": "markdown",
   "metadata": {},
   "source": [
    "### Data Preprocessing\n",
    "1. Formatting: Format the dataset as per your requirement.\n",
    "    * May be you need to change the data from Json to Tabular Format\n",
    "    * May be it is not suitable for your alogirthm's requirement.\n",
    "    * May be you had collected data from multiple sources.\n",
    "    * Depending upon the requirement you can do it before or after Data Identification phase. \n",
    "    \n",
    "2. Cleaning:\n",
    "    * Fix missing data or remove outliers.\n",
    "    * May be some extra columns are there, which might not be suitable for your requirement.\n",
    "    * You might also have to remove sensitive information and identity fields from your data.\n",
    "\n",
    "3. Sampling:\n",
    "    * More data can result in longer execution times for model and more memory requirements.\n",
    "    * Take a sample from your data for faster exploration and solution prototyping.\n",
    "    * Creating Test and Training dataset.\n"
   ]
  },
  {
   "cell_type": "markdown",
   "metadata": {},
   "source": [
    "## Identifying Outliers"
   ]
  },
  {
   "cell_type": "code",
   "execution_count": null,
   "metadata": {},
   "outputs": [],
   "source": [
    "import pandas as pd\n",
    "import matplotlib.pyplot as plt\n",
    "import seaborn as sns"
   ]
  },
  {
   "cell_type": "code",
   "execution_count": null,
   "metadata": {},
   "outputs": [],
   "source": [
    "# import data\n",
    "# Please  provide the right path here.\n",
    "dataset = pd.read_csv(\"pima_indian_diabetes.csv\")  \n",
    "dataset.head()"
   ]
  },
  {
   "cell_type": "code",
   "execution_count": null,
   "metadata": {},
   "outputs": [],
   "source": [
    "dataset.info()"
   ]
  },
  {
   "cell_type": "code",
   "execution_count": null,
   "metadata": {},
   "outputs": [],
   "source": [
    "dataset.describe()"
   ]
  },
  {
   "cell_type": "code",
   "execution_count": null,
   "metadata": {},
   "outputs": [],
   "source": [
    "pima_dataset = dataset.iloc[:, :8]"
   ]
  },
  {
   "cell_type": "code",
   "execution_count": null,
   "metadata": {},
   "outputs": [],
   "source": [
    "pima_dataset.head()"
   ]
  },
  {
   "cell_type": "code",
   "execution_count": null,
   "metadata": {},
   "outputs": [],
   "source": [
    "fig, ax = plt.subplots(4,2, figsize=(16,16))\n",
    "sns.distplot(pima_dataset.Age, bins = 20, ax=ax[0,0]) \n",
    "sns.distplot(pima_dataset.Pregnancies, bins = 20, ax=ax[0,1]) \n",
    "sns.distplot(pima_dataset.Glucose, bins = 20, ax=ax[1,0]) \n",
    "sns.distplot(pima_dataset.BloodPressure, bins = 20, ax=ax[1,1]) \n",
    "sns.distplot(pima_dataset.SkinThickness, bins = 20, ax=ax[2,0])\n",
    "sns.distplot(pima_dataset.Insulin, bins = 20, ax=ax[2,1])\n",
    "sns.distplot(pima_dataset.DiabetesPedigreeFunction, bins = 20, ax=ax[3,0]) \n",
    "sns.distplot(pima_dataset.BMI, bins = 20, ax=ax[3,1])"
   ]
  },
  {
   "cell_type": "code",
   "execution_count": null,
   "metadata": {},
   "outputs": [],
   "source": [
    "(pima_dataset == 0).astype(int).sum(axis = 0)"
   ]
  },
  {
   "cell_type": "code",
   "execution_count": null,
   "metadata": {},
   "outputs": [],
   "source": []
  },
  {
   "cell_type": "code",
   "execution_count": null,
   "metadata": {},
   "outputs": [],
   "source": [
    "# We have to treat GLucose BP, BMI.\n",
    "# We have to check what we should do with Pregnancies, SkintThickness and Insulin"
   ]
  },
  {
   "cell_type": "code",
   "execution_count": null,
   "metadata": {},
   "outputs": [],
   "source": [
    "sns.pairplot(data=dataset , hue='Outcome')"
   ]
  },
  {
   "cell_type": "code",
   "execution_count": null,
   "metadata": {},
   "outputs": [],
   "source": [
    "sns.pairplot(data=pima_dataset)  # , hue='Outcome')"
   ]
  },
  {
   "cell_type": "code",
   "execution_count": null,
   "metadata": {},
   "outputs": [],
   "source": [
    "corr = pima_dataset.corr()\n",
    "corr"
   ]
  },
  {
   "cell_type": "code",
   "execution_count": null,
   "metadata": {},
   "outputs": [],
   "source": [
    "plt.figure(figsize=(14, 10))\n",
    "plt.title('Data Correlation')\n",
    "sns.heatmap(corr, annot=True, square = True)"
   ]
  },
  {
   "cell_type": "code",
   "execution_count": null,
   "metadata": {},
   "outputs": [],
   "source": []
  },
  {
   "cell_type": "code",
   "execution_count": null,
   "metadata": {},
   "outputs": [],
   "source": []
  },
  {
   "cell_type": "code",
   "execution_count": null,
   "metadata": {},
   "outputs": [],
   "source": []
  }
 ],
 "metadata": {
  "kernelspec": {
   "display_name": "Python 3",
   "language": "python",
   "name": "python3"
  },
  "language_info": {
   "codemirror_mode": {
    "name": "ipython",
    "version": 3
   },
   "file_extension": ".py",
   "mimetype": "text/x-python",
   "name": "python",
   "nbconvert_exporter": "python",
   "pygments_lexer": "ipython3",
   "version": "3.7.7"
  }
 },
 "nbformat": 4,
 "nbformat_minor": 4
}
