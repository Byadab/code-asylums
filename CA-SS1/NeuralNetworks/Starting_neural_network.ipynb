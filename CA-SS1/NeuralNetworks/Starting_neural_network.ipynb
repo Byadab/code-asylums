{
  "nbformat": 4,
  "nbformat_minor": 0,
  "metadata": {
    "colab": {
      "name": "Starting_neural_network.ipynb",
      "provenance": [],
      "collapsed_sections": []
    },
    "kernelspec": {
      "name": "python3",
      "display_name": "Python 3"
    }
  },
  "cells": [
    {
      "cell_type": "code",
      "metadata": {
        "id": "29UySOznkxd_",
        "colab_type": "code",
        "colab": {}
      },
      "source": [
        "import tensorflow as tf\n",
        "from tensorflow import keras as tfk"
      ],
      "execution_count": null,
      "outputs": []
    },
    {
      "cell_type": "code",
      "metadata": {
        "id": "Oqbt223bkyXb",
        "colab_type": "code",
        "colab": {}
      },
      "source": [
        "X = [-5, -4 , -3, -2, -1, 0, 1, 2, 3, 4, 5]\n",
        "y = [-14, -11, -8, -5, -2, 1, 4, 7, 10, 13, 16]"
      ],
      "execution_count": null,
      "outputs": []
    },
    {
      "cell_type": "code",
      "metadata": {
        "id": "Vct_9QXvHjsT",
        "colab_type": "code",
        "colab": {}
      },
      "source": [
        "#y = mx + b = 3x + 1"
      ],
      "execution_count": null,
      "outputs": []
    },
    {
      "cell_type": "code",
      "metadata": {
        "id": "ZPWESI6rkyaq",
        "colab_type": "code",
        "colab": {}
      },
      "source": [
        "from tensorflow.keras.models import Sequential\n",
        "from tensorflow.keras.layers import Dense"
      ],
      "execution_count": null,
      "outputs": []
    },
    {
      "cell_type": "code",
      "metadata": {
        "id": "3luB3Hxtkyig",
        "colab_type": "code",
        "colab": {}
      },
      "source": [
        "model = Sequential()\n",
        "model.add(Dense(1, input_shape = [1], activation= 'relu'))\n",
        "\n",
        "\n",
        "# admissions_model = Sequential([\n",
        "#                     Dense(32, input_shape=[7], activation = 'relu'),\n",
        "#                     Dense(32, activation = 'relu'),\n",
        "#                     Dense(1, activation ='sigmoid')\n",
        "#                     ])\n"
      ],
      "execution_count": null,
      "outputs": []
    },
    {
      "cell_type": "code",
      "metadata": {
        "id": "8yN8MKEslaj5",
        "colab_type": "code",
        "colab": {}
      },
      "source": [
        "model.compile(optimizer = 'adam', loss='mse')"
      ],
      "execution_count": null,
      "outputs": []
    },
    {
      "cell_type": "code",
      "metadata": {
        "id": "YNiagmIolam3",
        "colab_type": "code",
        "colab": {
          "base_uri": "https://localhost:8080/",
          "height": 370
        },
        "outputId": "391540da-52d4-440a-a849-02faaa3ffea0"
      },
      "source": [
        "model.fit(X, y, epochs = 10)"
      ],
      "execution_count": null,
      "outputs": [
        {
          "output_type": "stream",
          "text": [
            "Epoch 1/10\n",
            "1/1 [==============================] - 0s 2ms/step - loss: 83.6375\n",
            "Epoch 2/10\n",
            "1/1 [==============================] - 0s 2ms/step - loss: 83.5985\n",
            "Epoch 3/10\n",
            "1/1 [==============================] - 0s 1ms/step - loss: 83.5595\n",
            "Epoch 4/10\n",
            "1/1 [==============================] - 0s 1ms/step - loss: 83.5205\n",
            "Epoch 5/10\n",
            "1/1 [==============================] - 0s 1ms/step - loss: 83.4815\n",
            "Epoch 6/10\n",
            "1/1 [==============================] - 0s 1ms/step - loss: 83.4426\n",
            "Epoch 7/10\n",
            "1/1 [==============================] - 0s 2ms/step - loss: 83.4036\n",
            "Epoch 8/10\n",
            "1/1 [==============================] - 0s 936us/step - loss: 83.3647\n",
            "Epoch 9/10\n",
            "1/1 [==============================] - 0s 1ms/step - loss: 83.3258\n",
            "Epoch 10/10\n",
            "1/1 [==============================] - 0s 1ms/step - loss: 83.2869\n"
          ],
          "name": "stdout"
        },
        {
          "output_type": "execute_result",
          "data": {
            "text/plain": [
              "<tensorflow.python.keras.callbacks.History at 0x7fb6a90e0400>"
            ]
          },
          "metadata": {
            "tags": []
          },
          "execution_count": 25
        }
      ]
    },
    {
      "cell_type": "code",
      "metadata": {
        "id": "mNKENHVUlapc",
        "colab_type": "code",
        "colab": {
          "base_uri": "https://localhost:8080/",
          "height": 34
        },
        "outputId": "d0dea5ee-5b31-40f5-a39d-ce9ec5f0ec7a"
      },
      "source": [
        "model.predict([1])"
      ],
      "execution_count": null,
      "outputs": [
        {
          "output_type": "execute_result",
          "data": {
            "text/plain": [
              "array([[0.25328213]], dtype=float32)"
            ]
          },
          "metadata": {
            "tags": []
          },
          "execution_count": 26
        }
      ]
    },
    {
      "cell_type": "markdown",
      "metadata": {
        "id": "9ZBPp2aIrGxd",
        "colab_type": "text"
      },
      "source": [
        "### ***Running on Actual Datasets***"
      ]
    },
    {
      "cell_type": "code",
      "metadata": {
        "id": "CRGltUs5gbCK",
        "colab_type": "code",
        "colab": {}
      },
      "source": [
        "import pandas as pd\n",
        "import numpy as np"
      ],
      "execution_count": null,
      "outputs": []
    },
    {
      "cell_type": "code",
      "metadata": {
        "id": "b9dzamGYj-gR",
        "colab_type": "code",
        "colab": {
          "base_uri": "https://localhost:8080/",
          "height": 195
        },
        "outputId": "59be89c7-f3e5-4e43-9e98-f6ef941ec1b2"
      },
      "source": [
        "admissions = pd.read_csv('admissions.csv')\n",
        "admissions.head()"
      ],
      "execution_count": null,
      "outputs": [
        {
          "output_type": "execute_result",
          "data": {
            "text/html": [
              "<div>\n",
              "<style scoped>\n",
              "    .dataframe tbody tr th:only-of-type {\n",
              "        vertical-align: middle;\n",
              "    }\n",
              "\n",
              "    .dataframe tbody tr th {\n",
              "        vertical-align: top;\n",
              "    }\n",
              "\n",
              "    .dataframe thead th {\n",
              "        text-align: right;\n",
              "    }\n",
              "</style>\n",
              "<table border=\"1\" class=\"dataframe\">\n",
              "  <thead>\n",
              "    <tr style=\"text-align: right;\">\n",
              "      <th></th>\n",
              "      <th>Serial No.</th>\n",
              "      <th>GRE Score</th>\n",
              "      <th>TOEFL Score</th>\n",
              "      <th>University Rating</th>\n",
              "      <th>SOP</th>\n",
              "      <th>LOR</th>\n",
              "      <th>CGPA</th>\n",
              "      <th>Research</th>\n",
              "      <th>Chance of Admit</th>\n",
              "    </tr>\n",
              "  </thead>\n",
              "  <tbody>\n",
              "    <tr>\n",
              "      <th>0</th>\n",
              "      <td>1</td>\n",
              "      <td>337</td>\n",
              "      <td>118</td>\n",
              "      <td>4</td>\n",
              "      <td>4.5</td>\n",
              "      <td>4.5</td>\n",
              "      <td>9.65</td>\n",
              "      <td>1</td>\n",
              "      <td>0.92</td>\n",
              "    </tr>\n",
              "    <tr>\n",
              "      <th>1</th>\n",
              "      <td>2</td>\n",
              "      <td>324</td>\n",
              "      <td>107</td>\n",
              "      <td>4</td>\n",
              "      <td>4.0</td>\n",
              "      <td>4.5</td>\n",
              "      <td>8.87</td>\n",
              "      <td>1</td>\n",
              "      <td>0.76</td>\n",
              "    </tr>\n",
              "    <tr>\n",
              "      <th>2</th>\n",
              "      <td>3</td>\n",
              "      <td>316</td>\n",
              "      <td>104</td>\n",
              "      <td>3</td>\n",
              "      <td>3.0</td>\n",
              "      <td>3.5</td>\n",
              "      <td>8.00</td>\n",
              "      <td>1</td>\n",
              "      <td>0.72</td>\n",
              "    </tr>\n",
              "    <tr>\n",
              "      <th>3</th>\n",
              "      <td>4</td>\n",
              "      <td>322</td>\n",
              "      <td>110</td>\n",
              "      <td>3</td>\n",
              "      <td>3.5</td>\n",
              "      <td>2.5</td>\n",
              "      <td>8.67</td>\n",
              "      <td>1</td>\n",
              "      <td>0.80</td>\n",
              "    </tr>\n",
              "    <tr>\n",
              "      <th>4</th>\n",
              "      <td>5</td>\n",
              "      <td>314</td>\n",
              "      <td>103</td>\n",
              "      <td>2</td>\n",
              "      <td>2.0</td>\n",
              "      <td>3.0</td>\n",
              "      <td>8.21</td>\n",
              "      <td>0</td>\n",
              "      <td>0.65</td>\n",
              "    </tr>\n",
              "  </tbody>\n",
              "</table>\n",
              "</div>"
            ],
            "text/plain": [
              "   Serial No.  GRE Score  TOEFL Score  ...  CGPA  Research  Chance of Admit \n",
              "0           1        337          118  ...  9.65         1              0.92\n",
              "1           2        324          107  ...  8.87         1              0.76\n",
              "2           3        316          104  ...  8.00         1              0.72\n",
              "3           4        322          110  ...  8.67         1              0.80\n",
              "4           5        314          103  ...  8.21         0              0.65\n",
              "\n",
              "[5 rows x 9 columns]"
            ]
          },
          "metadata": {
            "tags": []
          },
          "execution_count": 28
        }
      ]
    },
    {
      "cell_type": "code",
      "metadata": {
        "id": "bBtmr5TGj-ua",
        "colab_type": "code",
        "colab": {}
      },
      "source": [
        "admissions.loc[admissions['Chance of Admit ']>=0.72,'Admitted']=1\n",
        "admissions.loc[admissions['Chance of Admit ']<0.72,'Admitted']=0\n",
        "admissions['Admitted']=admissions['Admitted'].astype(np.int64)\n",
        "\n",
        "X = admissions.iloc[:,1:-2]\n",
        "y_continuous = admissions[['Chance of Admit ']]\n",
        "y_categorical = admissions[['Admitted']]"
      ],
      "execution_count": null,
      "outputs": []
    },
    {
      "cell_type": "code",
      "metadata": {
        "id": "MlZx9CThj-xL",
        "colab_type": "code",
        "colab": {
          "base_uri": "https://localhost:8080/",
          "height": 195
        },
        "outputId": "2ff8fce6-8af1-4d54-b0a6-1755dbfdfe83"
      },
      "source": [
        "admissions.head()"
      ],
      "execution_count": null,
      "outputs": [
        {
          "output_type": "execute_result",
          "data": {
            "text/html": [
              "<div>\n",
              "<style scoped>\n",
              "    .dataframe tbody tr th:only-of-type {\n",
              "        vertical-align: middle;\n",
              "    }\n",
              "\n",
              "    .dataframe tbody tr th {\n",
              "        vertical-align: top;\n",
              "    }\n",
              "\n",
              "    .dataframe thead th {\n",
              "        text-align: right;\n",
              "    }\n",
              "</style>\n",
              "<table border=\"1\" class=\"dataframe\">\n",
              "  <thead>\n",
              "    <tr style=\"text-align: right;\">\n",
              "      <th></th>\n",
              "      <th>Serial No.</th>\n",
              "      <th>GRE Score</th>\n",
              "      <th>TOEFL Score</th>\n",
              "      <th>University Rating</th>\n",
              "      <th>SOP</th>\n",
              "      <th>LOR</th>\n",
              "      <th>CGPA</th>\n",
              "      <th>Research</th>\n",
              "      <th>Chance of Admit</th>\n",
              "      <th>Admitted</th>\n",
              "    </tr>\n",
              "  </thead>\n",
              "  <tbody>\n",
              "    <tr>\n",
              "      <th>0</th>\n",
              "      <td>1</td>\n",
              "      <td>337</td>\n",
              "      <td>118</td>\n",
              "      <td>4</td>\n",
              "      <td>4.5</td>\n",
              "      <td>4.5</td>\n",
              "      <td>9.65</td>\n",
              "      <td>1</td>\n",
              "      <td>0.92</td>\n",
              "      <td>1</td>\n",
              "    </tr>\n",
              "    <tr>\n",
              "      <th>1</th>\n",
              "      <td>2</td>\n",
              "      <td>324</td>\n",
              "      <td>107</td>\n",
              "      <td>4</td>\n",
              "      <td>4.0</td>\n",
              "      <td>4.5</td>\n",
              "      <td>8.87</td>\n",
              "      <td>1</td>\n",
              "      <td>0.76</td>\n",
              "      <td>1</td>\n",
              "    </tr>\n",
              "    <tr>\n",
              "      <th>2</th>\n",
              "      <td>3</td>\n",
              "      <td>316</td>\n",
              "      <td>104</td>\n",
              "      <td>3</td>\n",
              "      <td>3.0</td>\n",
              "      <td>3.5</td>\n",
              "      <td>8.00</td>\n",
              "      <td>1</td>\n",
              "      <td>0.72</td>\n",
              "      <td>1</td>\n",
              "    </tr>\n",
              "    <tr>\n",
              "      <th>3</th>\n",
              "      <td>4</td>\n",
              "      <td>322</td>\n",
              "      <td>110</td>\n",
              "      <td>3</td>\n",
              "      <td>3.5</td>\n",
              "      <td>2.5</td>\n",
              "      <td>8.67</td>\n",
              "      <td>1</td>\n",
              "      <td>0.80</td>\n",
              "      <td>1</td>\n",
              "    </tr>\n",
              "    <tr>\n",
              "      <th>4</th>\n",
              "      <td>5</td>\n",
              "      <td>314</td>\n",
              "      <td>103</td>\n",
              "      <td>2</td>\n",
              "      <td>2.0</td>\n",
              "      <td>3.0</td>\n",
              "      <td>8.21</td>\n",
              "      <td>0</td>\n",
              "      <td>0.65</td>\n",
              "      <td>0</td>\n",
              "    </tr>\n",
              "  </tbody>\n",
              "</table>\n",
              "</div>"
            ],
            "text/plain": [
              "   Serial No.  GRE Score  TOEFL Score  ...  Research  Chance of Admit   Admitted\n",
              "0           1        337          118  ...         1              0.92         1\n",
              "1           2        324          107  ...         1              0.76         1\n",
              "2           3        316          104  ...         1              0.72         1\n",
              "3           4        322          110  ...         1              0.80         1\n",
              "4           5        314          103  ...         0              0.65         0\n",
              "\n",
              "[5 rows x 10 columns]"
            ]
          },
          "metadata": {
            "tags": []
          },
          "execution_count": 30
        }
      ]
    },
    {
      "cell_type": "code",
      "metadata": {
        "id": "MtOuSFtcj-z_",
        "colab_type": "code",
        "colab": {}
      },
      "source": [
        "from sklearn.preprocessing import StandardScaler\n",
        "scaler = StandardScaler()\n",
        "\n",
        "Xs = scaler.fit_transform(X)"
      ],
      "execution_count": null,
      "outputs": []
    },
    {
      "cell_type": "markdown",
      "metadata": {
        "id": "eyw4RdTzrfJB",
        "colab_type": "text"
      },
      "source": [
        "***Predicting the Chance of Admit (continuous)***"
      ]
    },
    {
      "cell_type": "code",
      "metadata": {
        "id": "NSqptZPFj-5t",
        "colab_type": "code",
        "colab": {}
      },
      "source": [
        "admissions_model = Sequential([\n",
        "                    Dense(32, input_shape=[7], activation = 'relu'),\n",
        "                    Dense(32, activation = 'relu'),\n",
        "                    Dense(1, activation ='sigmoid')\n",
        "                    ])"
      ],
      "execution_count": null,
      "outputs": []
    },
    {
      "cell_type": "code",
      "metadata": {
        "id": "Snvt757Qj-8R",
        "colab_type": "code",
        "colab": {}
      },
      "source": [
        "admissions_model.compile(optimizer = 'sgd', loss='mse')"
      ],
      "execution_count": null,
      "outputs": []
    },
    {
      "cell_type": "code",
      "metadata": {
        "id": "7YSPgL9mj--r",
        "colab_type": "code",
        "colab": {
          "base_uri": "https://localhost:8080/",
          "height": 1000
        },
        "outputId": "dcc47911-a2a5-439c-c2c9-3aa841dbff4d"
      },
      "source": [
        "admissions_model.fit(Xs, y_continuous, epochs=50, verbose=1, validation_split=0.2)"
      ],
      "execution_count": null,
      "outputs": [
        {
          "output_type": "stream",
          "text": [
            "Epoch 1/50\n",
            "13/13 [==============================] - 0s 8ms/step - loss: 0.0395 - val_loss: 0.0317\n",
            "Epoch 2/50\n",
            "13/13 [==============================] - 0s 4ms/step - loss: 0.0356 - val_loss: 0.0284\n",
            "Epoch 3/50\n",
            "13/13 [==============================] - 0s 4ms/step - loss: 0.0323 - val_loss: 0.0257\n",
            "Epoch 4/50\n",
            "13/13 [==============================] - 0s 4ms/step - loss: 0.0296 - val_loss: 0.0233\n",
            "Epoch 5/50\n",
            "13/13 [==============================] - 0s 4ms/step - loss: 0.0272 - val_loss: 0.0214\n",
            "Epoch 6/50\n",
            "13/13 [==============================] - 0s 4ms/step - loss: 0.0253 - val_loss: 0.0198\n",
            "Epoch 7/50\n",
            "13/13 [==============================] - 0s 4ms/step - loss: 0.0236 - val_loss: 0.0184\n",
            "Epoch 8/50\n",
            "13/13 [==============================] - 0s 4ms/step - loss: 0.0222 - val_loss: 0.0172\n",
            "Epoch 9/50\n",
            "13/13 [==============================] - 0s 4ms/step - loss: 0.0210 - val_loss: 0.0161\n",
            "Epoch 10/50\n",
            "13/13 [==============================] - 0s 5ms/step - loss: 0.0199 - val_loss: 0.0152\n",
            "Epoch 11/50\n",
            "13/13 [==============================] - 0s 4ms/step - loss: 0.0190 - val_loss: 0.0144\n",
            "Epoch 12/50\n",
            "13/13 [==============================] - 0s 4ms/step - loss: 0.0182 - val_loss: 0.0137\n",
            "Epoch 13/50\n",
            "13/13 [==============================] - 0s 4ms/step - loss: 0.0175 - val_loss: 0.0131\n",
            "Epoch 14/50\n",
            "13/13 [==============================] - 0s 4ms/step - loss: 0.0168 - val_loss: 0.0125\n",
            "Epoch 15/50\n",
            "13/13 [==============================] - 0s 4ms/step - loss: 0.0162 - val_loss: 0.0120\n",
            "Epoch 16/50\n",
            "13/13 [==============================] - 0s 4ms/step - loss: 0.0157 - val_loss: 0.0116\n",
            "Epoch 17/50\n",
            "13/13 [==============================] - 0s 4ms/step - loss: 0.0153 - val_loss: 0.0112\n",
            "Epoch 18/50\n",
            "13/13 [==============================] - 0s 4ms/step - loss: 0.0148 - val_loss: 0.0108\n",
            "Epoch 19/50\n",
            "13/13 [==============================] - 0s 4ms/step - loss: 0.0144 - val_loss: 0.0105\n",
            "Epoch 20/50\n",
            "13/13 [==============================] - 0s 4ms/step - loss: 0.0141 - val_loss: 0.0101\n",
            "Epoch 21/50\n",
            "13/13 [==============================] - 0s 4ms/step - loss: 0.0137 - val_loss: 0.0098\n",
            "Epoch 22/50\n",
            "13/13 [==============================] - 0s 4ms/step - loss: 0.0134 - val_loss: 0.0096\n",
            "Epoch 23/50\n",
            "13/13 [==============================] - 0s 4ms/step - loss: 0.0131 - val_loss: 0.0093\n",
            "Epoch 24/50\n",
            "13/13 [==============================] - 0s 4ms/step - loss: 0.0128 - val_loss: 0.0091\n",
            "Epoch 25/50\n",
            "13/13 [==============================] - 0s 4ms/step - loss: 0.0126 - val_loss: 0.0089\n",
            "Epoch 26/50\n",
            "13/13 [==============================] - 0s 4ms/step - loss: 0.0124 - val_loss: 0.0087\n",
            "Epoch 27/50\n",
            "13/13 [==============================] - 0s 4ms/step - loss: 0.0121 - val_loss: 0.0085\n",
            "Epoch 28/50\n",
            "13/13 [==============================] - 0s 4ms/step - loss: 0.0119 - val_loss: 0.0083\n",
            "Epoch 29/50\n",
            "13/13 [==============================] - 0s 4ms/step - loss: 0.0117 - val_loss: 0.0081\n",
            "Epoch 30/50\n",
            "13/13 [==============================] - 0s 4ms/step - loss: 0.0115 - val_loss: 0.0080\n",
            "Epoch 31/50\n",
            "13/13 [==============================] - 0s 4ms/step - loss: 0.0114 - val_loss: 0.0078\n",
            "Epoch 32/50\n",
            "13/13 [==============================] - 0s 4ms/step - loss: 0.0112 - val_loss: 0.0077\n",
            "Epoch 33/50\n",
            "13/13 [==============================] - 0s 4ms/step - loss: 0.0110 - val_loss: 0.0075\n",
            "Epoch 34/50\n",
            "13/13 [==============================] - 0s 4ms/step - loss: 0.0109 - val_loss: 0.0074\n",
            "Epoch 35/50\n",
            "13/13 [==============================] - 0s 4ms/step - loss: 0.0107 - val_loss: 0.0073\n",
            "Epoch 36/50\n",
            "13/13 [==============================] - 0s 4ms/step - loss: 0.0106 - val_loss: 0.0072\n",
            "Epoch 37/50\n",
            "13/13 [==============================] - 0s 4ms/step - loss: 0.0105 - val_loss: 0.0070\n",
            "Epoch 38/50\n",
            "13/13 [==============================] - 0s 5ms/step - loss: 0.0103 - val_loss: 0.0069\n",
            "Epoch 39/50\n",
            "13/13 [==============================] - 0s 4ms/step - loss: 0.0102 - val_loss: 0.0068\n",
            "Epoch 40/50\n",
            "13/13 [==============================] - 0s 4ms/step - loss: 0.0101 - val_loss: 0.0067\n",
            "Epoch 41/50\n",
            "13/13 [==============================] - 0s 4ms/step - loss: 0.0100 - val_loss: 0.0067\n",
            "Epoch 42/50\n",
            "13/13 [==============================] - 0s 4ms/step - loss: 0.0099 - val_loss: 0.0066\n",
            "Epoch 43/50\n",
            "13/13 [==============================] - 0s 4ms/step - loss: 0.0098 - val_loss: 0.0065\n",
            "Epoch 44/50\n",
            "13/13 [==============================] - 0s 4ms/step - loss: 0.0097 - val_loss: 0.0064\n",
            "Epoch 45/50\n",
            "13/13 [==============================] - 0s 4ms/step - loss: 0.0096 - val_loss: 0.0063\n",
            "Epoch 46/50\n",
            "13/13 [==============================] - 0s 4ms/step - loss: 0.0095 - val_loss: 0.0062\n",
            "Epoch 47/50\n",
            "13/13 [==============================] - 0s 4ms/step - loss: 0.0094 - val_loss: 0.0062\n",
            "Epoch 48/50\n",
            "13/13 [==============================] - 0s 4ms/step - loss: 0.0093 - val_loss: 0.0061\n",
            "Epoch 49/50\n",
            "13/13 [==============================] - 0s 4ms/step - loss: 0.0093 - val_loss: 0.0060\n",
            "Epoch 50/50\n",
            "13/13 [==============================] - 0s 4ms/step - loss: 0.0092 - val_loss: 0.0060\n"
          ],
          "name": "stdout"
        },
        {
          "output_type": "execute_result",
          "data": {
            "text/plain": [
              "<tensorflow.python.keras.callbacks.History at 0x7fb6a9915128>"
            ]
          },
          "metadata": {
            "tags": []
          },
          "execution_count": 33
        }
      ]
    },
    {
      "cell_type": "code",
      "metadata": {
        "id": "0rKRQBRHtC9Z",
        "colab_type": "code",
        "colab": {
          "base_uri": "https://localhost:8080/",
          "height": 252
        },
        "outputId": "e3af26be-4aa1-47c7-e6a9-830115860c04"
      },
      "source": [
        "admissions_model.summary()"
      ],
      "execution_count": null,
      "outputs": [
        {
          "output_type": "stream",
          "text": [
            "Model: \"sequential_3\"\n",
            "_________________________________________________________________\n",
            "Layer (type)                 Output Shape              Param #   \n",
            "=================================================================\n",
            "dense_5 (Dense)              (None, 32)                256       \n",
            "_________________________________________________________________\n",
            "dense_6 (Dense)              (None, 32)                1056      \n",
            "_________________________________________________________________\n",
            "dense_7 (Dense)              (None, 1)                 33        \n",
            "=================================================================\n",
            "Total params: 1,345\n",
            "Trainable params: 1,345\n",
            "Non-trainable params: 0\n",
            "_________________________________________________________________\n"
          ],
          "name": "stdout"
        }
      ]
    },
    {
      "cell_type": "code",
      "metadata": {
        "id": "2bL6wH54pRf3",
        "colab_type": "code",
        "colab": {}
      },
      "source": [
        ""
      ],
      "execution_count": null,
      "outputs": []
    },
    {
      "cell_type": "code",
      "metadata": {
        "id": "3pwuTQnopRtb",
        "colab_type": "code",
        "colab": {}
      },
      "source": [
        ""
      ],
      "execution_count": null,
      "outputs": []
    },
    {
      "cell_type": "code",
      "metadata": {
        "id": "kjmlcZ8fpR_B",
        "colab_type": "code",
        "colab": {}
      },
      "source": [
        ""
      ],
      "execution_count": null,
      "outputs": []
    }
  ]
}